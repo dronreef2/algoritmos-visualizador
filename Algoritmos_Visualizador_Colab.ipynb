{
 "cells": [
  {
   "cell_type": "markdown",
   "id": "f40a5798",
   "metadata": {},
   "source": [
    "# 🎯 Algoritmos Visualizador - Google Colab\n",
    "\n",
    "**Plataforma educacional interativa** com visualização de algoritmos, exercícios práticos e integração com PyTorch.\n",
    "\n",
    "## 🚀 Funcionalidades\n",
    "\n",
    "- 📚 **5 Módulos de Aprendizado**: Fundamentos, Estruturas de Dados, Programação Dinâmica, Entrevistas, Redes Neurais\n",
    "- 🎨 **Visualizações Interativas**: Matplotlib + Plotly com animações\n",
    "- 🧠 **PyTorch Integrado**: Redes neurais, evolução, sonificação, arte generativa\n",
    "- 🎯 **Exercícios Práticos**: Com correção automática e feedback\n",
    "- 🔍 **Busca Web Integrada**: Integração com Tavily API\n",
    "- 📊 **Competições Globais**: Sistema de rankings e leaderboards\n",
    "\n",
    "## ⚡ Vantagens do Google Colab\n",
    "\n",
    "- **GPU/TPU Grátis**: Para redes neurais avançadas\n",
    "- **Recursos Ilimitados**: Sem timeouts ou limitações de memória\n",
    "- **Compartilhamento Fácil**: Links diretos para demonstrações\n",
    "- **Integração GitHub**: Import direto de repositórios\n",
    "\n",
    "---"
   ]
  },
  {
   "cell_type": "code",
   "execution_count": null,
   "id": "f9a0d505",
   "metadata": {},
   "outputs": [],
   "source": [
    "# 📦 Instalar dependências\n",
    "print(\"🔄 Instalando dependências...\")\n",
    "\n",
    "!pip install -q streamlit>=1.32.0\n",
    "!pip install -q torch torchvision torchaudio --index-url https://download.pytorch.org/whl/cu118\n",
    "!pip install -q numpy pandas matplotlib plotly seaborn scipy\n",
    "!pip install -q requests pillow tavily-python psutil\n",
    "\n",
    "print(\"✅ Dependências instaladas!\")"
   ]
  },
  {
   "cell_type": "code",
   "execution_count": null,
   "id": "d67e173b",
   "metadata": {},
   "outputs": [],
   "source": [
    "# 🔍 Verificar instalação\n",
    "import torch\n",
    "import streamlit as st\n",
    "\n",
    "print(f\"🧠 PyTorch: {torch.__version__}\")\n",
    "print(f\"🎨 CUDA disponível: {torch.cuda.is_available()}\")\n",
    "if torch.cuda.is_available():\n",
    "    print(f\"⚡ GPU: {torch.cuda.get_device_name(0)}\")\n",
    "\n",
    "print(f\"🌊 Streamlit: {st.__version__}\")\n",
    "print(\"✅ Ambiente pronto para uso!\")"
   ]
  },
  {
   "cell_type": "code",
   "execution_count": null,
   "id": "6382008a",
   "metadata": {},
   "outputs": [],
   "source": [
    "# 📥 Clonar repositório (se necessário)\n",
    "print(\"🔄 Baixando código do projeto...\")\n",
    "\n",
    "!git clone https://github.com/dronreef2/algoritmos-visualizador.git\n",
    "%cd algoritmos-visualizador\n",
    "\n",
    "print(\"✅ Repositório clonado!\")"
   ]
  },
  {
   "cell_type": "code",
   "execution_count": null,
   "id": "6990d386",
   "metadata": {},
   "outputs": [],
   "source": [
    "# 🚀 Executar aplicação\n",
    "print(\"🎯 Iniciando Algoritmos Visualizador...\")\n",
    "print(\"📱 A aplicação estará disponível em uma nova aba.\")\n",
    "print(\"⏹️  Para parar: Ctrl+C ou interromper a célula\")\n",
    "\n",
    "# Executar Streamlit\n",
    "!streamlit run app_integrada.py --server.port 8501 --server.address 0.0.0.0"
   ]
  },
  {
   "cell_type": "markdown",
   "id": "8f590658",
   "metadata": {},
   "source": [
    "## 🎮 Como Usar\n",
    "\n",
    "1. **Execute as células acima** na ordem\n",
    "2. **Acesse o link gerado** pelo Streamlit (normalmente `https://xxxxx.ngrok.io`)\n",
    "3. **Explore os módulos** de aprendizado interativo\n",
    "\n",
    "## 🔧 Configurações Avançadas\n",
    "\n",
    "### GPU/TPU\n",
    "- Altere runtime: `Runtime > Change runtime type > GPU/TPU`\n",
    "\n",
    "### Secrets API\n",
    "- Para Tavily: Configure `TAVILY_API_KEY` nas secrets do Colab\n",
    "- Para GitHub: Configure `GITHUB_TOKEN` nas secrets\n",
    "\n",
    "### Compartilhamento\n",
    "- `File > Save a copy in Drive` para salvar versão pessoal\n",
    "- `File > Publish to web` para compartilhar publicamente\n",
    "\n",
    "---\n",
    "\n",
    "**🎯 Dica**: Para melhor performance, use sempre GPU quando disponível!"
   ]
  }
 ],
 "metadata": {
  "language_info": {
   "name": "python"
  }
 },
 "nbformat": 4,
 "nbformat_minor": 5
}
